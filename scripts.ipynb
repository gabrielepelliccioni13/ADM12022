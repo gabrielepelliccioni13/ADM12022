{
 "cells": [
  {
   "cell_type": "markdown",
   "id": "ae35bcff",
   "metadata": {
    "pycharm": {
     "name": "#%% md\n"
    }
   },
   "source": [
    "#### Say \"Hello, World!\" With Python"
   ]
  },
  {
   "cell_type": "code",
   "execution_count": null,
   "id": "af274e2b",
   "metadata": {
    "pycharm": {
     "name": "#%%\n"
    }
   },
   "outputs": [],
   "source": [
    "print(\"Hello, World!\")\n"
   ]
  },
  {
   "cell_type": "markdown",
   "id": "875bdc7b",
   "metadata": {
    "pycharm": {
     "name": "#%% md\n"
    }
   },
   "source": [
    "#### Python If-Else"
   ]
  },
  {
   "cell_type": "code",
   "execution_count": null,
   "id": "a4302aa9",
   "metadata": {
    "pycharm": {
     "name": "#%%\n"
    }
   },
   "outputs": [],
   "source": [
    "#!/bin/python3\n",
    "\n",
    "import math\n",
    "import os\n",
    "import random\n",
    "import re\n",
    "import sys\n",
    "\n",
    "\n",
    "\n",
    "n = int(input())\n",
    "if n % 2 == 1:      #n dispari\n",
    "    print('Weird')\n",
    "elif n >=2 and n<=5 and n % 2== 0:\n",
    "    print('Not Weird')\n",
    "elif n >=6 and n<=20 and n % 2== 0:\n",
    "    print('Weird')\n",
    "else:\n",
    "    print('Not Weird')\n"
   ]
  },
  {
   "cell_type": "markdown",
   "id": "a25ce3ac",
   "metadata": {
    "pycharm": {
     "name": "#%% md\n"
    }
   },
   "source": [
    "#### Arithmetic Operators"
   ]
  },
  {
   "cell_type": "code",
   "execution_count": null,
   "id": "1ddee62d",
   "metadata": {
    "pycharm": {
     "name": "#%%\n"
    }
   },
   "outputs": [],
   "source": [
    "if __name__ == '__main__':\n",
    "    a = int(input())\n",
    "    b = int(input())\n",
    "    \n",
    "    print(a+b)\n",
    "    print(a-b)\n",
    "    print(a*b)\n"
   ]
  },
  {
   "cell_type": "markdown",
   "id": "589f087f",
   "metadata": {
    "pycharm": {
     "name": "#%% md\n"
    }
   },
   "source": [
    "#### Python: Division"
   ]
  },
  {
   "cell_type": "code",
   "execution_count": null,
   "id": "b204d36c",
   "metadata": {
    "pycharm": {
     "name": "#%%\n"
    }
   },
   "outputs": [],
   "source": [
    "if __name__ == '__main__':\n",
    "    a = int(input())\n",
    "    b = int(input())\n",
    "    print(a//b)\n",
    "    print(a/b)\n"
   ]
  },
  {
   "cell_type": "markdown",
   "id": "13045b63",
   "metadata": {
    "pycharm": {
     "name": "#%% md\n"
    }
   },
   "source": [
    "#### Loops"
   ]
  },
  {
   "cell_type": "code",
   "execution_count": null,
   "id": "b48e4f19",
   "metadata": {
    "pycharm": {
     "name": "#%%\n"
    }
   },
   "outputs": [],
   "source": [
    "if __name__ == '__main__':\n",
    "    n = int(input())\n",
    "    for i in range(n):\n",
    "        if i >= 0:\n",
    "            print(i*i)\n"
   ]
  },
  {
   "cell_type": "markdown",
   "id": "1f70b7f9",
   "metadata": {
    "pycharm": {
     "name": "#%% md\n"
    }
   },
   "source": [
    "#### Write a function"
   ]
  },
  {
   "cell_type": "code",
   "execution_count": null,
   "id": "8e14aabf",
   "metadata": {
    "pycharm": {
     "name": "#%%\n"
    }
   },
   "outputs": [],
   "source": [
    "def is_leap(year):\n",
    "    leap = False\n",
    "    \n",
    "    # Write your logic here\n",
    "    if year %400==0:\n",
    "        leap = True\n",
    "     \n",
    "    elif year %100 == 0:\n",
    "        leap = False\n",
    "    elif year %4 == 0:\n",
    "        leap = True\n",
    "    \n",
    "    return leap\n",
    "\n"
   ]
  },
  {
   "cell_type": "markdown",
   "id": "5760eb00",
   "metadata": {
    "pycharm": {
     "name": "#%% md\n"
    }
   },
   "source": [
    "#### Print Function"
   ]
  },
  {
   "cell_type": "code",
   "execution_count": null,
   "id": "7c08b0fb",
   "metadata": {
    "pycharm": {
     "name": "#%%\n"
    }
   },
   "outputs": [],
   "source": [
    "if __name__ == '__main__':\n",
    "    n = int(input())\n",
    "    for i in range(1,n+1):\n",
    "        print(i, end=\"\")\n"
   ]
  },
  {
   "cell_type": "markdown",
   "id": "8804bfa7",
   "metadata": {
    "pycharm": {
     "name": "#%% md\n"
    }
   },
   "source": [
    "#### List Comprehensions"
   ]
  },
  {
   "cell_type": "code",
   "execution_count": null,
   "id": "f5ca8a6c",
   "metadata": {
    "pycharm": {
     "name": "#%%\n"
    }
   },
   "outputs": [],
   "source": [
    "if __name__ == '__main__':\n",
    "    x = int(input())\n",
    "    y = int(input())\n",
    "    z = int(input())\n",
    "    n = int(input())\n",
    "    \n",
    "    #list:\n",
    "    \n",
    "print([[i,j,k] for i in range(x+1) for j in range (y+1) for k in range (z+1) if i+j+k !=n])\n"
   ]
  },
  {
   "cell_type": "markdown",
   "id": "1d8e2476",
   "metadata": {
    "pycharm": {
     "name": "#%% md\n"
    }
   },
   "source": [
    "#### Find the Runner-Up Score!  "
   ]
  },
  {
   "cell_type": "code",
   "execution_count": null,
   "id": "d9e425dc",
   "metadata": {
    "pycharm": {
     "name": "#%%\n"
    }
   },
   "outputs": [],
   "source": [
    "if __name__ == '__main__':\n",
    "    n = int(input())\n",
    "    arr = map(int, input().split())\n",
    "    \n",
    "print(sorted(set(arr))[-2])  #i found set function on internet\n",
    "    \n"
   ]
  },
  {
   "cell_type": "markdown",
   "id": "abbdcb02",
   "metadata": {
    "pycharm": {
     "name": "#%% md\n"
    }
   },
   "source": [
    "#### Finding the percentage"
   ]
  },
  {
   "cell_type": "code",
   "execution_count": null,
   "id": "4800e4c9",
   "metadata": {
    "pycharm": {
     "name": "#%%\n"
    }
   },
   "outputs": [],
   "source": [
    "if __name__ == '__main__':\n",
    "    n = int(input())\n",
    "    student_marks = {}\n",
    "    for _ in range(n):\n",
    "        name, *line = input().split()\n",
    "        scores = list(map(float, line))\n",
    "        student_marks[name] = scores\n",
    "    query_name = input()\n",
    "    marks=0\n",
    "for x in student_marks[query_name]:\n",
    "    marks=marks+x\n",
    "avg=marks/3\n",
    "print (\"{:.2f}\".format(avg))\n",
    "\n",
    "    \n"
   ]
  },
  {
   "cell_type": "markdown",
   "id": "f4741bd3",
   "metadata": {
    "pycharm": {
     "name": "#%% md\n"
    }
   },
   "source": [
    "#### Tuples "
   ]
  },
  {
   "cell_type": "code",
   "execution_count": null,
   "id": "d07109fa",
   "metadata": {
    "pycharm": {
     "name": "#%%\n"
    }
   },
   "outputs": [],
   "source": [
    "if __name__ == '__main__':\n",
    "    n = int(input())\n",
    "    t = map(int, input().split())\n",
    "    \n",
    "    \n",
    "    \n",
    "    \n",
    "        \n",
    "    \n",
    "\n",
    "print(hash(tuple(t)))\n"
   ]
  },
  {
   "cell_type": "markdown",
   "id": "e93f5bfa",
   "metadata": {
    "pycharm": {
     "name": "#%% md\n"
    }
   },
   "source": [
    "#### sWAP cASE"
   ]
  },
  {
   "cell_type": "code",
   "execution_count": null,
   "id": "7776ef5b",
   "metadata": {
    "pycharm": {
     "name": "#%%\n"
    }
   },
   "outputs": [],
   "source": [
    "def swap_case(s):\n",
    "    \n",
    "    return s.swapcase()\n",
    "\n"
   ]
  },
  {
   "cell_type": "markdown",
   "id": "3c542ecf",
   "metadata": {
    "pycharm": {
     "name": "#%% md\n"
    }
   },
   "source": [
    "#### String Split and Join"
   ]
  },
  {
   "cell_type": "code",
   "execution_count": null,
   "id": "5db4d5b2",
   "metadata": {
    "pycharm": {
     "name": "#%%\n"
    }
   },
   "outputs": [],
   "source": [
    "\n",
    "\n",
    "def split_and_join(line):\n",
    "    a = \"this is a good string\"\n",
    "    a = line.split(\" \")\n",
    "    a = \"-\".join(a)\n",
    "    return a\n",
    "    # write your code here\n",
    "\n",
    "if __name__ == '__main__':\n",
    "    line = input()\n",
    "    result = split_and_join(line)\n",
    "    print(result)\n"
   ]
  },
  {
   "cell_type": "markdown",
   "id": "89327f9d",
   "metadata": {
    "pycharm": {
     "name": "#%% md\n"
    }
   },
   "source": [
    "#### What's Your Name?"
   ]
  },
  {
   "cell_type": "code",
   "execution_count": null,
   "id": "f9499147",
   "metadata": {
    "pycharm": {
     "name": "#%%\n"
    }
   },
   "outputs": [],
   "source": [
    "#\n",
    "# Complete the 'print_full_name' function below.\n",
    "#\n",
    "# The function is expected to return a STRING.\n",
    "# The function accepts following parameters:\n",
    "#  1. STRING first\n",
    "#  2. STRING last\n",
    "#\n",
    "\n",
    "def print_full_name(first, last):\n",
    "    # Write your code here\n",
    "    print(\"Hello \" + first, last +\"! \"\"You just delved into python.\")\n",
    "\n"
   ]
  },
  {
   "cell_type": "markdown",
   "id": "babb5e3c",
   "metadata": {
    "pycharm": {
     "name": "#%% md\n"
    }
   },
   "source": [
    "#### What's Your Name?"
   ]
  },
  {
   "cell_type": "code",
   "execution_count": null,
   "id": "1f607c23",
   "metadata": {
    "pycharm": {
     "name": "#%%\n"
    }
   },
   "outputs": [],
   "source": [
    "#\n",
    "# Complete the 'print_full_name' function below.\n",
    "#\n",
    "# The function is expected to return a STRING.\n",
    "# The function accepts following parameters:\n",
    "#  1. STRING first\n",
    "#  2. STRING last\n",
    "#\n",
    "\n",
    "def print_full_name(first, last):\n",
    "    # Write your code here\n",
    "    print(\"Hello \" + first, last +\"! \"\"You just delved into python.\")\n",
    "\n"
   ]
  },
  {
   "cell_type": "markdown",
   "id": "3762eb4d",
   "metadata": {
    "pycharm": {
     "name": "#%% md\n"
    }
   },
   "source": [
    "#### Mutations"
   ]
  },
  {
   "cell_type": "code",
   "execution_count": null,
   "id": "bdafc2a6",
   "metadata": {
    "pycharm": {
     "name": "#%%\n"
    }
   },
   "outputs": [],
   "source": [
    "def mutate_string(string, position, character):\n",
    "   lista = list(string)\n",
    "   lista[position] = character\n",
    "   string = \"\".join(lista)\n",
    "     \n",
    "   \n",
    "   return string\n",
    "\n"
   ]
  },
  {
   "cell_type": "markdown",
   "id": "0fd8e581",
   "metadata": {
    "pycharm": {
     "name": "#%% md\n"
    }
   },
   "source": [
    "#### Find a string"
   ]
  },
  {
   "cell_type": "code",
   "execution_count": null,
   "id": "7dbbefe0",
   "metadata": {
    "pycharm": {
     "name": "#%%\n"
    }
   },
   "outputs": [],
   "source": [
    "def count_substring(string, sub_string):\n",
    "    ls = len(string)\n",
    "    lss = len(sub_string)\n",
    "    count = 0\n",
    "    for i in range(ls-lss+1):\n",
    "        if(string[i:(i+lss)] == sub_string):\n",
    "            count += 1\n",
    "        \n",
    "    return count\n",
    "\n"
   ]
  },
  {
   "cell_type": "markdown",
   "id": "4293b47f",
   "metadata": {
    "pycharm": {
     "name": "#%% md\n"
    }
   },
   "source": [
    "#### String Validators"
   ]
  },
  {
   "cell_type": "code",
   "execution_count": null,
   "id": "b7c854fb",
   "metadata": {
    "pycharm": {
     "name": "#%%\n"
    }
   },
   "outputs": [],
   "source": [
    "if __name__ == '__main__':\n",
    "    s = input()\n",
    "    print(any(a.isalnum() for a in s))\n",
    "    print(any(a.isalpha()for a in s))\n",
    "    print(any(a.isdigit()for a in s))\n",
    "    print(any(a.islower()for a in s))\n",
    "    print(any(a.isupper()for a in s))\n",
    " \n"
   ]
  },
  {
   "cell_type": "markdown",
   "id": "ffbfcf79",
   "metadata": {
    "pycharm": {
     "name": "#%% md\n"
    }
   },
   "source": [
    "#### Text Wrap"
   ]
  },
  {
   "cell_type": "code",
   "execution_count": null,
   "id": "be722be6",
   "metadata": {
    "pycharm": {
     "name": "#%%\n"
    }
   },
   "outputs": [],
   "source": [
    "\n",
    "\n",
    "def wrap(string, max_width):\n",
    "    \n",
    "    return textwrap.fill(string, max_width)\n",
    "\n"
   ]
  },
  {
   "cell_type": "markdown",
   "id": "b441dec0",
   "metadata": {
    "pycharm": {
     "name": "#%% md\n"
    }
   },
   "source": [
    "#### Nested Lists"
   ]
  },
  {
   "cell_type": "code",
   "execution_count": null,
   "id": "ba3d6342",
   "metadata": {
    "pycharm": {
     "name": "#%%\n"
    }
   },
   "outputs": [],
   "source": [
    "result = []\n",
    "point = []\n",
    "\n",
    "\n",
    "if __name__ == '__main__':\n",
    "    for _ in range(int(input())):\n",
    "        name = input()\n",
    "        score = float(input())\n",
    "        result+=[[name,score]]\n",
    "        point+=[score]\n",
    "    b=sorted(list(set(point)))[1]\n",
    "    \n",
    "    for a,c in sorted(result):\n",
    "        if c==b:\n",
    "            print(a)\n",
    "\n",
    "\n",
    "   \n"
   ]
  },
  {
   "cell_type": "markdown",
   "id": "d74e56bf",
   "metadata": {
    "pycharm": {
     "name": "#%% md\n"
    }
   },
   "source": [
    "#### Introduction to Sets"
   ]
  },
  {
   "cell_type": "code",
   "execution_count": null,
   "id": "5a4e2209",
   "metadata": {
    "pycharm": {
     "name": "#%%\n"
    }
   },
   "outputs": [],
   "source": [
    "def average(array):\n",
    "    # your code goes here\n",
    "    somma_array = sum(set(array))\n",
    "    num_array = len(set(array))\n",
    "    output = somma_array / num_array\n",
    "    \n",
    "    \n",
    "    return round(output,3)\n",
    "\n"
   ]
  },
  {
   "cell_type": "markdown",
   "id": "52072952",
   "metadata": {
    "pycharm": {
     "name": "#%% md\n"
    }
   },
   "source": [
    "#### Symmetric Difference"
   ]
  },
  {
   "cell_type": "code",
   "execution_count": null,
   "id": "a98ce7a6",
   "metadata": {
    "pycharm": {
     "name": "#%%\n"
    }
   },
   "outputs": [],
   "source": [
    "# Enter your code here. Read input from STDIN. Print output to STDOUT\n",
    "M = int(input())\n",
    "mset = set(map(int,input().split()))\n",
    "\n",
    "n=int(input())\n",
    "nset = set(map(int,input().split()))\n",
    "\n",
    "M1 = mset.difference(nset)\n",
    "M2= nset.difference(mset)\n",
    "result = M1.union(M2)\n",
    "result = sorted(result)\n",
    "for i in result:\n",
    "    print(i)\n",
    "\n",
    "\n",
    "\n",
    "\n",
    "\n"
   ]
  },
  {
   "cell_type": "markdown",
   "id": "f93baa26",
   "metadata": {
    "pycharm": {
     "name": "#%% md\n"
    }
   },
   "source": [
    "#### Set .add() "
   ]
  },
  {
   "cell_type": "code",
   "execution_count": null,
   "id": "7fad40bd",
   "metadata": {
    "pycharm": {
     "name": "#%%\n"
    }
   },
   "outputs": [],
   "source": [
    "# Enter your code here. Read input from STDIN. Print output to STDOUT\n",
    "N = int(input())\n",
    "cose = set(input() for i in range(N))\n",
    "\n",
    "print(len(cose))\n",
    "\n",
    "\n"
   ]
  },
  {
   "cell_type": "markdown",
   "id": "ffaf2877",
   "metadata": {
    "pycharm": {
     "name": "#%% md\n"
    }
   },
   "source": [
    "#### Set .discard(), .remove() & .pop()"
   ]
  },
  {
   "cell_type": "code",
   "execution_count": null,
   "id": "a8639e44",
   "metadata": {
    "pycharm": {
     "name": "#%%\n"
    }
   },
   "outputs": [],
   "source": [
    "n = int(input())   #n\n",
    "s = set(map(int,input().split()))\n",
    "numcomandi = int(input())       #N\n",
    "\n",
    "\n",
    "\n",
    "for x in range(numcomandi):\n",
    "    comando = input().split()\n",
    "    if comando[0] == \"pop\":\n",
    "        s.pop()\n",
    "    elif comando[0] == \"discard\":\n",
    "        s.discard(int(comando[1]))\n",
    "    elif comando[0] ==\"remove\":\n",
    "        s.remove(int(comando[1]))\n",
    "print(sum(s))\n",
    "\n",
    "\n",
    "\n",
    "\n"
   ]
  },
  {
   "cell_type": "markdown",
   "id": "a5674722",
   "metadata": {
    "pycharm": {
     "name": "#%% md\n"
    }
   },
   "source": [
    "#### Set .union() Operation"
   ]
  },
  {
   "cell_type": "code",
   "execution_count": null,
   "id": "69b48700",
   "metadata": {
    "pycharm": {
     "name": "#%%\n"
    }
   },
   "outputs": [],
   "source": [
    "# Enter your code here. Read input from STDIN. Print output to STDOUT\n",
    "numeroinglesi = int(input())\n",
    "i = set(map(int,input().split()))\n",
    "\n",
    "numerofrancesi = int(input())\n",
    "f = set(map(int,input().split()))\n",
    "\n",
    "\n",
    "print(len(f|i))\n",
    "\n",
    "\n",
    "\n"
   ]
  },
  {
   "cell_type": "markdown",
   "id": "45f43c13",
   "metadata": {
    "pycharm": {
     "name": "#%% md\n"
    }
   },
   "source": [
    "#### Set .intersection() Operation"
   ]
  },
  {
   "cell_type": "code",
   "execution_count": null,
   "id": "94d7a8c1",
   "metadata": {
    "pycharm": {
     "name": "#%%\n"
    }
   },
   "outputs": [],
   "source": [
    "# Enter your code here. Read input from STDIN. Print output to STDOUT\n",
    "n =int(input())\n",
    "i = set(map(int,input().split()))\n",
    "\n",
    "x = int(input())\n",
    "j = set(map(int,input().split()))\n",
    "\n",
    "print(len(i.intersection(j)))\n"
   ]
  },
  {
   "cell_type": "markdown",
   "id": "8324de52",
   "metadata": {
    "pycharm": {
     "name": "#%% md\n"
    }
   },
   "source": [
    "#### Set .difference() Operation"
   ]
  },
  {
   "cell_type": "code",
   "execution_count": null,
   "id": "264950b8",
   "metadata": {
    "pycharm": {
     "name": "#%%\n"
    }
   },
   "outputs": [],
   "source": [
    "# Enter your code here. Read input from STDIN. Print output to STDOUT\n",
    "n = int(input())\n",
    "i = set(map(int,input().split()))\n",
    "\n",
    "k = int(input())\n",
    "l = set(map(int,input().split()))\n",
    "\n",
    "print(len(i-l))\n"
   ]
  },
  {
   "cell_type": "markdown",
   "id": "4c88e91c",
   "metadata": {
    "pycharm": {
     "name": "#%% md\n"
    }
   },
   "source": [
    "#### Set .symmetric_difference() Operation"
   ]
  },
  {
   "cell_type": "code",
   "execution_count": null,
   "id": "d1d55040",
   "metadata": {
    "pycharm": {
     "name": "#%%\n"
    }
   },
   "outputs": [],
   "source": [
    "# Enter your code here. Read input from STDIN. Print output to STDOUT\n",
    "i = int(input())\n",
    "j = set(map(int,input().split()))\n",
    "\n",
    "l = int(input())\n",
    "k = set(map(int,input().split()))\n",
    "\n",
    "print(len(j^k))\n"
   ]
  },
  {
   "cell_type": "markdown",
   "id": "0bd048d3",
   "metadata": {
    "pycharm": {
     "name": "#%% md\n"
    }
   },
   "source": [
    "#### Check Subset"
   ]
  },
  {
   "cell_type": "code",
   "execution_count": null,
   "id": "3a35f24b",
   "metadata": {
    "pycharm": {
     "name": "#%%\n"
    }
   },
   "outputs": [],
   "source": [
    "# Enter your code here. Read input from STDIN. Print output to STDOUT\n",
    "numerocasi = int(input())\n",
    "for _ in range(numerocasi): \n",
    "    sizeA = int(input())\n",
    "    A  = set(map(int,input().split()))\n",
    "\n",
    "    sizeB = int(input())\n",
    "    B = set(map(int,input().split()))\n",
    "\n",
    "\n",
    "    print(A.issubset(B))\n"
   ]
  },
  {
   "cell_type": "markdown",
   "id": "fc400cdf",
   "metadata": {
    "pycharm": {
     "name": "#%% md\n"
    }
   },
   "source": [
    "#### Check Strict Superset"
   ]
  },
  {
   "cell_type": "code",
   "execution_count": null,
   "id": "80156e99",
   "metadata": {
    "pycharm": {
     "name": "#%%\n"
    }
   },
   "outputs": [],
   "source": [
    "# Enter your code here. Read input from STDIN. Print output to STDOUT\n",
    "setA = set(map(int,input().split()))\n",
    "n = int(input())\n",
    "\n",
    "count = 0\n",
    "for _ in range(n):\n",
    "    setX = set(map(int,input().split()))\n",
    "    if setA.issuperset(setX):\n",
    "        count += 1\n",
    "if count == n:\n",
    "    print(\"True\")\n",
    "else:\n",
    "    print(\"False\")\n",
    "    \n",
    "\n",
    "\n",
    "\n",
    "\n"
   ]
  },
  {
   "cell_type": "markdown",
   "id": "359ddc69",
   "metadata": {
    "pycharm": {
     "name": "#%% md\n"
    }
   },
   "source": [
    "#### Check Strict Superset"
   ]
  },
  {
   "cell_type": "code",
   "execution_count": null,
   "id": "ca15698a",
   "metadata": {
    "pycharm": {
     "name": "#%%\n"
    }
   },
   "outputs": [],
   "source": [
    "# Enter your code here. Read input from STDIN. Print output to STDOUT\n",
    "setA = set(map(int,input().split()))\n",
    "n = int(input())\n",
    "count = 0\n",
    "for _ in range(n):\n",
    "    setX = set(map(int,input().split()))\n",
    "    if setA.issuperset(setX):\n",
    "        count += 1\n",
    "if count == n:\n",
    "    print(\"True\")\n",
    "else:\n",
    "    print(\"False\")\n",
    "\n",
    "\n",
    "\n",
    "\n"
   ]
  },
  {
   "cell_type": "markdown",
   "id": "84205297",
   "metadata": {
    "pycharm": {
     "name": "#%% md\n"
    }
   },
   "source": [
    "#### Set Mutations"
   ]
  },
  {
   "cell_type": "code",
   "execution_count": null,
   "id": "ce134d34",
   "metadata": {
    "pycharm": {
     "name": "#%%\n"
    }
   },
   "outputs": [],
   "source": [
    "# Enter your code here. Read input from STDIN. Print output to STDOUT\n",
    "# numelementi in A\n",
    "n = int(input())   \n",
    "#elementi di A\n",
    "setA = set(map(int,input().split()))\n",
    "#Numero Set N\n",
    "n2 = int(input())\n",
    "#ciclo for\n",
    "for op in range(n2):\n",
    "    opl,*t = input().split()\n",
    "    setN = set(map(int,input().split()))\n",
    "    \n",
    "    if opl == \"update\":\n",
    "        setA.update(setN)\n",
    "    elif opl==\"intersection_update\":\n",
    "        setA.intersection_update(setN)\n",
    "    elif opl ==\"difference_update\":\n",
    "        setA.difference_update(setN)\n",
    "    elif opl ==\"symmetric_difference_update\":\n",
    "        setA.symmetric_difference_update(setN)\n",
    "        \n",
    "    \n",
    "    \n",
    "        \n",
    "print(sum(setA))\n",
    "\n",
    "    \n",
    "\n",
    "\n",
    "\n",
    "\n"
   ]
  },
  {
   "cell_type": "markdown",
   "id": "46290abc",
   "metadata": {
    "pycharm": {
     "name": "#%% md\n"
    }
   },
   "source": [
    "#### collections.Counter()"
   ]
  },
  {
   "cell_type": "code",
   "execution_count": null,
   "id": "f907dda3",
   "metadata": {
    "pycharm": {
     "name": "#%%\n"
    }
   },
   "outputs": [],
   "source": [
    "# Enter your code here. Read input from STDIN. Print output to STDOUT\n",
    "from collections import Counter\n",
    "X = int(input())\n",
    "list1 = list(input().split())\n",
    "dic1 = dict(Counter(list1))\n",
    "N = int(input())\n",
    "\n",
    "totale = 0\n",
    "for _ in range(N):\n",
    "    size, prezzo = input().split()\n",
    "    if size in dic1.keys():\n",
    "        if dic1[size] !=0:\n",
    "            dic1[size] -=1\n",
    "            totale +=int(prezzo)\n",
    "        \n",
    "            \n",
    "        \n",
    "      \n",
    "        \n",
    "print(totale)\n"
   ]
  },
  {
   "cell_type": "markdown",
   "id": "dd740919",
   "metadata": {
    "pycharm": {
     "name": "#%% md\n"
    }
   },
   "source": [
    "#### DefaultDict Tutorial"
   ]
  },
  {
   "cell_type": "code",
   "execution_count": null,
   "id": "26872fd1",
   "metadata": {
    "pycharm": {
     "name": "#%%\n"
    }
   },
   "outputs": [],
   "source": [
    "# Enter your code here. Read input from STDIN. Print output to STDOUT\n",
    "from collections import defaultdict\n",
    "n,m = map(int,input().split())\n",
    "d = defaultdict(list)\n",
    "for i in range(1,n+1):\n",
    "    d[input()].append(i)\n",
    "for _ in range(m):\n",
    "    positions = d[input()]\n",
    "    if positions ==[]:\n",
    "        print(-1)\n",
    "    else:\n",
    "        print(*positions)\n",
    "    \n",
    "    \n",
    "    \n",
    "    \n",
    "    \n",
    "    \n",
    "    \n",
    "    \n",
    "    \n",
    "    \n",
    "    \n",
    "    \n",
    "    \n",
    "    \n"
   ]
  },
  {
   "cell_type": "markdown",
   "id": "77fe6b62",
   "metadata": {
    "pycharm": {
     "name": "#%% md\n"
    }
   },
   "source": [
    "#### Collections.namedtuple()"
   ]
  },
  {
   "cell_type": "code",
   "execution_count": null,
   "id": "579f0dc2",
   "metadata": {
    "pycharm": {
     "name": "#%%\n"
    }
   },
   "outputs": [],
   "source": [
    "# Enter your code here. Read input from STDIN. Print output to STDOUT\n",
    "from collections import namedtuple\n",
    "N = int(input())\n",
    "ordine = input().split()\n",
    "student = namedtuple('Studente', ordine)\n",
    "s = 0\n",
    "for i in range(N):\n",
    "    inp= input().split()\n",
    "    stu = student(*inp)\n",
    "    s += int(stu.MARKS)\n",
    "print(s/N)\n"
   ]
  },
  {
   "cell_type": "markdown",
   "id": "39073d99",
   "metadata": {
    "pycharm": {
     "name": "#%% md\n"
    }
   },
   "source": [
    "#### Collections.namedtuple()"
   ]
  },
  {
   "cell_type": "code",
   "execution_count": null,
   "id": "0bc33387",
   "metadata": {
    "pycharm": {
     "name": "#%%\n"
    }
   },
   "outputs": [],
   "source": [
    "# Enter your code here. Read input from STDIN. Print output to STDOUT\n",
    "from collections import namedtuple\n",
    "N = int(input())\n",
    "ordine = input().split()\n",
    "student = namedtuple('Studente', ordine)\n",
    "s = 0\n",
    "for i in range(N):\n",
    "    inp= input().split()\n",
    "    stu = student(*inp)\n",
    "    s += int(stu.MARKS)\n",
    "print(s/N)\n"
   ]
  },
  {
   "cell_type": "markdown",
   "id": "37fab0c7",
   "metadata": {
    "pycharm": {
     "name": "#%% md\n"
    }
   },
   "source": [
    "#### Collections.OrderedDict()"
   ]
  },
  {
   "cell_type": "code",
   "execution_count": null,
   "id": "c3923e69",
   "metadata": {
    "pycharm": {
     "name": "#%%\n"
    }
   },
   "outputs": [],
   "source": [
    "# Enter your code here. Read input from STDIN. Print output to STDOUT\n",
    "from collections import OrderedDict\n",
    "n = int(input())\n",
    "\n",
    "diz = OrderedDict()\n",
    "for _ in range(n):\n",
    "    name,price = input().rsplit(\" \",1)\n",
    "    diz[name] = diz.get(name,0) + int(price)\n",
    "    \n",
    "for a,b in diz.items():\n",
    "    print(a,b)\n"
   ]
  },
  {
   "cell_type": "markdown",
   "id": "9baa045a",
   "metadata": {
    "pycharm": {
     "name": "#%% md\n"
    }
   },
   "source": [
    "#### Collections.deque()"
   ]
  },
  {
   "cell_type": "code",
   "execution_count": null,
   "id": "d85c5437",
   "metadata": {
    "pycharm": {
     "name": "#%%\n"
    }
   },
   "outputs": [],
   "source": [
    "# Enter your code here. Read input from STDIN. Print output to STDOUT\n",
    "from collections import deque\n",
    "n = int(input())\n",
    "d = deque()\n",
    "lista = []\n",
    "for _ in range(n):\n",
    "    lista = input().split()\n",
    "    if \"pop\" in lista:\n",
    "        d.pop()\n",
    "    elif \"append\" in lista:\n",
    "        d.append(lista[1])\n",
    "    elif \"appendleft\" in lista:\n",
    "        d.appendleft(lista[1])\n",
    "    elif \"popleft\" in lista:\n",
    "        d.popleft()\n",
    "print(*d)\n",
    "    \n",
    "        \n"
   ]
  },
  {
   "cell_type": "markdown",
   "id": "a6d8915c",
   "metadata": {
    "pycharm": {
     "name": "#%% md\n"
    }
   },
   "source": [
    "#### Calendar Module"
   ]
  },
  {
   "cell_type": "code",
   "execution_count": null,
   "id": "414c4a60",
   "metadata": {
    "pycharm": {
     "name": "#%%\n"
    }
   },
   "outputs": [],
   "source": [
    "# Enter your code here. Read input from STDIN. Print output to STDOUT\n",
    "import calendar\n",
    "data = list(map(int,input().split()))\n",
    "\n",
    "\n",
    "giorno = calendar.weekday(data[2],data[0],data[1])\n",
    "print(calendar.day_name[giorno].upper())\n"
   ]
  },
  {
   "cell_type": "markdown",
   "id": "06a7d97a",
   "metadata": {
    "pycharm": {
     "name": "#%% md\n"
    }
   },
   "source": [
    "#### Lists"
   ]
  },
  {
   "cell_type": "code",
   "execution_count": null,
   "id": "c0543865",
   "metadata": {
    "pycharm": {
     "name": "#%%\n"
    }
   },
   "outputs": [],
   "source": [
    "commands = int(input())\n",
    "lista = []\n",
    "for _ in range(commands):\n",
    "    a = input().split()\n",
    "    if a[0] == \"pop\":\n",
    "        lista.pop()\n",
    "    elif a[0] == \"insert\":\n",
    "        lista.insert(int(a[1]),int(a[2]))\n",
    "    elif a[0] == \"remove\":\n",
    "        lista.remove(int(a[1]))\n",
    "    elif a[0] == \"print\":\n",
    "        print(lista)\n",
    "    elif a[0] == \"append\":\n",
    "        lista.append(int(a[1]))\n",
    "    elif a[0] == \"sort\":\n",
    "        lista.sort()\n",
    "    elif a[0] == \"reverse\":\n",
    "        lista.reverse()\n"
   ]
  },
  {
   "cell_type": "markdown",
   "id": "faf81d38",
   "metadata": {
    "pycharm": {
     "name": "#%% md\n"
    }
   },
   "source": [
    "#### Lists"
   ]
  },
  {
   "cell_type": "code",
   "execution_count": null,
   "id": "18610a78",
   "metadata": {
    "pycharm": {
     "name": "#%%\n"
    }
   },
   "outputs": [],
   "source": [
    "commands = int(input())\n",
    "lista = []\n",
    "for _ in range(commands):\n",
    "    a = input().split()\n",
    "    if a[0] == \"pop\":\n",
    "        lista.pop()\n",
    "    elif a[0] == \"insert\":\n",
    "        lista.insert(int(a[1]),int(a[2]))\n",
    "    elif a[0] == \"remove\":\n",
    "        lista.remove(int(a[1]))\n",
    "    elif a[0] == \"print\":\n",
    "        print(lista)\n",
    "    elif a[0] == \"append\":\n",
    "        lista.append(int(a[1]))\n",
    "    elif a[0] == \"sort\":\n",
    "        lista.sort()\n",
    "    elif a[0] == \"reverse\":\n",
    "        lista.reverse()\n"
   ]
  },
  {
   "cell_type": "markdown",
   "id": "8b209647",
   "metadata": {
    "pycharm": {
     "name": "#%% md\n"
    }
   },
   "source": [
    "#### Exceptions"
   ]
  },
  {
   "cell_type": "code",
   "execution_count": null,
   "id": "49f84b40",
   "metadata": {
    "pycharm": {
     "name": "#%%\n"
    }
   },
   "outputs": [],
   "source": [
    "# Enter your code here. Read input from STDIN. Print output to STDOUT\n",
    "t = int(input())\n",
    "for _ in range(t):\n",
    "    \n",
    "    \n",
    "    try:\n",
    "        a,b = map(int,input().split())\n",
    "        print(a//b)\n",
    "    except ZeroDivisionError as z:\n",
    "        print(\"Error Code:\",z)\n",
    "    except ValueError as v:\n",
    "        print(\"Error Code:\",v)\n",
    "        \n",
    "    \n"
   ]
  },
  {
   "cell_type": "markdown",
   "id": "c137053a",
   "metadata": {
    "pycharm": {
     "name": "#%% md\n"
    }
   },
   "source": [
    "#### Zipped!"
   ]
  },
  {
   "cell_type": "code",
   "execution_count": null,
   "id": "de7340ad",
   "metadata": {
    "pycharm": {
     "name": "#%%\n"
    }
   },
   "outputs": [],
   "source": [
    "# Enter your code here. Read input from STDIN. Print output to STDOUT  #N studenti righe     #X materie colonne\n",
    "N,X = map(int,input().split())\n",
    "lista =[]\n",
    "for a in range(X):\n",
    "    punteggio = list(map(float,input().split()))\n",
    "    lista.append(punteggio)\n",
    "    \n",
    "for i in zip(*lista):\n",
    "    print(sum(i)/X)\n",
    "\n",
    "\n",
    "\n",
    "    \n"
   ]
  },
  {
   "cell_type": "markdown",
   "id": "4eda1c57",
   "metadata": {
    "pycharm": {
     "name": "#%% md\n"
    }
   },
   "source": [
    "#### Map and Lambda Function"
   ]
  },
  {
   "cell_type": "code",
   "execution_count": null,
   "id": "28194648",
   "metadata": {
    "pycharm": {
     "name": "#%%\n"
    }
   },
   "outputs": [],
   "source": [
    "cube = lambda x:x**3\n",
    " # complete the lambda function \n",
    "\n",
    "def fibonacci(n):# return a list of fibonacci numbers\n",
    "    a,b = 0,1\n",
    "    lista = []\n",
    "    for _ in range(n):\n",
    "        lista.append(a)\n",
    "        a,b = b, a+b\n",
    "        \n",
    "    return lista\n",
    "\n",
    "\n"
   ]
  },
  {
   "cell_type": "markdown",
   "id": "20424371",
   "metadata": {
    "pycharm": {
     "name": "#%% md\n"
    }
   },
   "source": [
    "#### Detect Floating Point Number"
   ]
  },
  {
   "cell_type": "code",
   "execution_count": null,
   "id": "c9538ece",
   "metadata": {
    "pycharm": {
     "name": "#%%\n"
    }
   },
   "outputs": [],
   "source": [
    "# Enter your code here. Read input from STDIN. Print output to STDOUT\n",
    "import re\n",
    "\n",
    "n = int(input())\n",
    "\n",
    "for _ in range(n):\n",
    "    if re.match(\"^[+-]{0,1}[\\d]{0,}\\.\\d+$\", input()):\n",
    "        print(\"True\") \n",
    "    else:\n",
    "        print(\"False\")\n",
    "    \n",
    "    \n",
    "\n",
    "    \n",
    "\n",
    "\n",
    "    \n"
   ]
  },
  {
   "cell_type": "markdown",
   "id": "aa88794e",
   "metadata": {
    "pycharm": {
     "name": "#%% md\n"
    }
   },
   "source": [
    "#### Re.split()"
   ]
  },
  {
   "cell_type": "code",
   "execution_count": null,
   "id": "176ca8a6",
   "metadata": {
    "pycharm": {
     "name": "#%%\n"
    }
   },
   "outputs": [],
   "source": [
    "regex_pattern = r\"[.,]\"\t# Do not delete 'r'.\n",
    "\n"
   ]
  },
  {
   "cell_type": "markdown",
   "id": "7598c645",
   "metadata": {
    "pycharm": {
     "name": "#%% md\n"
    }
   },
   "source": [
    "#### Group(), Groups() & Groupdict()"
   ]
  },
  {
   "cell_type": "code",
   "execution_count": null,
   "id": "7ecab3b7",
   "metadata": {
    "pycharm": {
     "name": "#%%\n"
    }
   },
   "outputs": [],
   "source": [
    "# Enter your code here. Read input from STDIN. Print output to STDOUT\n",
    "import re\n",
    "s = input()\n",
    "a = re.search(r\"([a-zA-Z0-9])\\1+\",s)\n",
    "\n",
    "if a:\n",
    "    print(a.group()[0])\n",
    "else:\n",
    "    print(-1)\n",
    "\n",
    "\n"
   ]
  },
  {
   "cell_type": "markdown",
   "id": "7c4dbef8",
   "metadata": {
    "pycharm": {
     "name": "#%% md\n"
    }
   },
   "source": [
    "#### Re.findall() & Re.finditer()"
   ]
  },
  {
   "cell_type": "code",
   "execution_count": null,
   "id": "a68d233e",
   "metadata": {
    "pycharm": {
     "name": "#%%\n"
    }
   },
   "outputs": [],
   "source": [
    "# Enter your code here. Read input from STDIN. Print output to STDOUT\n",
    "import re\n",
    "s = input()  #trovare sottostringe con 2 o + vocali in mezzo a due conson\n",
    "\n",
    "a = re.findall(r\"(?<=[^aeiouAEIOU])([aeiouAEIOU]{2,})(?=[QWRTYPSDFGHJKLZXCVBNMqwrtypsdfghjklzxcvbnm])\", s)\n",
    "\n",
    "if a:\n",
    "    print(*a, sep = \"\\n\")\n",
    "else:\n",
    "    print(-1)\n"
   ]
  },
  {
   "cell_type": "markdown",
   "id": "d68e4d41",
   "metadata": {
    "pycharm": {
     "name": "#%% md\n"
    }
   },
   "source": [
    "#### Arrays"
   ]
  },
  {
   "cell_type": "code",
   "execution_count": null,
   "id": "24a3f98d",
   "metadata": {
    "pycharm": {
     "name": "#%%\n"
    }
   },
   "outputs": [],
   "source": [
    "\n",
    "\n",
    "def arrays(arr):\n",
    "    \n",
    "    a = numpy.array(arr,float)\n",
    "    reverse= a[::-1]\n",
    "    return reverse\n"
   ]
  },
  {
   "cell_type": "markdown",
   "id": "a7e1d7f2",
   "metadata": {
    "pycharm": {
     "name": "#%% md\n"
    }
   },
   "source": [
    "#### Shape and Reshape"
   ]
  },
  {
   "cell_type": "code",
   "execution_count": null,
   "id": "29e9df0c",
   "metadata": {
    "pycharm": {
     "name": "#%%\n"
    }
   },
   "outputs": [],
   "source": [
    "import numpy\n",
    "\n",
    "x = list(map(int,input().split()))\n",
    "x1 = numpy.array(x)\n",
    "x1.shape = (3,3)\n",
    "print(x1)\n"
   ]
  },
  {
   "cell_type": "markdown",
   "id": "81189137",
   "metadata": {
    "pycharm": {
     "name": "#%% md\n"
    }
   },
   "source": [
    "#### Shape and Reshape"
   ]
  },
  {
   "cell_type": "code",
   "execution_count": null,
   "id": "d9ab43ba",
   "metadata": {
    "pycharm": {
     "name": "#%%\n"
    }
   },
   "outputs": [],
   "source": [
    "import numpy\n",
    "\n",
    "x = list(map(int,input().split()))\n",
    "x1 = numpy.array(x)\n",
    "x1.shape = (3,3)\n",
    "print(x1)\n"
   ]
  },
  {
   "cell_type": "markdown",
   "id": "d47d0b55",
   "metadata": {
    "pycharm": {
     "name": "#%% md\n"
    }
   },
   "source": [
    "#### Transpose and Flatten"
   ]
  },
  {
   "cell_type": "code",
   "execution_count": null,
   "id": "16258b6a",
   "metadata": {
    "pycharm": {
     "name": "#%%\n"
    }
   },
   "outputs": [],
   "source": [
    "import numpy\n",
    "\n",
    "n,m  =map(int,input().split())  #nxm\n",
    "array = []\n",
    "for _ in range(n):\n",
    "    \n",
    "    \n",
    "    array.append(list(map(int,input().split())))\n",
    "array2 = numpy.array(array)  \n",
    "print(numpy.transpose(array2),array2.flatten(), sep = \"\\n\" )\n",
    "    \n",
    "    \n",
    "    \n",
    "    \n"
   ]
  },
  {
   "cell_type": "markdown",
   "id": "8300f3ae",
   "metadata": {
    "pycharm": {
     "name": "#%% md\n"
    }
   },
   "source": [
    "#### Transpose and Flatten"
   ]
  },
  {
   "cell_type": "code",
   "execution_count": null,
   "id": "53c86822",
   "metadata": {
    "pycharm": {
     "name": "#%%\n"
    }
   },
   "outputs": [],
   "source": [
    "import numpy\n",
    "\n",
    "n,m  =map(int,input().split())  #nxm\n",
    "array = []\n",
    "for _ in range(n):\n",
    "    \n",
    "    \n",
    "    array.append(list(map(int,input().split())))\n",
    "array2 = numpy.array(array)  \n",
    "print(numpy.transpose(array2),array2.flatten(), sep = \"\\n\" )\n",
    "    \n",
    "    \n",
    "    \n",
    "    \n"
   ]
  },
  {
   "cell_type": "markdown",
   "id": "a6bed079",
   "metadata": {
    "pycharm": {
     "name": "#%% md\n"
    }
   },
   "source": [
    "#### Concatenate"
   ]
  },
  {
   "cell_type": "code",
   "execution_count": null,
   "id": "bde1d1f8",
   "metadata": {
    "pycharm": {
     "name": "#%%\n"
    }
   },
   "outputs": [],
   "source": [
    "import numpy\n",
    "\n",
    "a,b,c = map(int,input().split())\n",
    "\n",
    "#array 1\n",
    "array1 = []\n",
    "for _ in range(a):\n",
    "    array1.append(numpy.array(list(map(int,input().split()))))\n",
    "\n",
    "\n",
    "\n",
    "array2 = []\n",
    "for x in range(b):\n",
    "    array2.append(numpy.array(list(map(int,input().split()))))\n",
    "\n",
    "\n",
    "print(numpy.concatenate((array1,array2),axis = 0))\n"
   ]
  },
  {
   "cell_type": "markdown",
   "id": "ccd386a3",
   "metadata": {
    "pycharm": {
     "name": "#%% md\n"
    }
   },
   "source": [
    "#### Zeros and Ones"
   ]
  },
  {
   "cell_type": "code",
   "execution_count": null,
   "id": "a79176b9",
   "metadata": {
    "pycharm": {
     "name": "#%%\n"
    }
   },
   "outputs": [],
   "source": [
    "import numpy\n",
    "\n",
    "\n",
    "x = list(map(int,input().split()))\n",
    "\n",
    "print(numpy.zeros(x, dtype = numpy.int))\n",
    "print(numpy.ones(x, dtype = numpy.int))\n"
   ]
  },
  {
   "cell_type": "markdown",
   "id": "4e5c0151",
   "metadata": {
    "pycharm": {
     "name": "#%% md\n"
    }
   },
   "source": [
    "#### Eye and Identity"
   ]
  },
  {
   "cell_type": "code",
   "execution_count": null,
   "id": "89e72f37",
   "metadata": {
    "pycharm": {
     "name": "#%%\n"
    }
   },
   "outputs": [],
   "source": [
    "import numpy\n",
    "numpy.set_printoptions(legacy=\"1.13\")\n",
    "\n",
    "x = map(int,input().split())\n",
    "\n",
    "print(numpy.eye(*x))\n",
    "\n",
    "\n"
   ]
  },
  {
   "cell_type": "markdown",
   "id": "d06ffea3",
   "metadata": {
    "pycharm": {
     "name": "#%% md\n"
    }
   },
   "source": [
    "#### Eye and Identity"
   ]
  },
  {
   "cell_type": "code",
   "execution_count": null,
   "id": "afca8af4",
   "metadata": {
    "pycharm": {
     "name": "#%%\n"
    }
   },
   "outputs": [],
   "source": [
    "import numpy\n",
    "numpy.set_printoptions(legacy=\"1.13\")\n",
    "\n",
    "x = map(int,input().split())\n",
    "\n",
    "print(numpy.eye(*x))\n",
    "\n",
    "\n"
   ]
  },
  {
   "cell_type": "markdown",
   "id": "dee7813b",
   "metadata": {
    "pycharm": {
     "name": "#%% md\n"
    }
   },
   "source": [
    "#### Eye and Identity"
   ]
  },
  {
   "cell_type": "code",
   "execution_count": null,
   "id": "d5d06d5c",
   "metadata": {
    "pycharm": {
     "name": "#%%\n"
    }
   },
   "outputs": [],
   "source": [
    "import numpy\n",
    "numpy.set_printoptions(legacy=\"1.13\")\n",
    "\n",
    "x = map(int,input().split())\n",
    "\n",
    "print(numpy.eye(*x))\n",
    "\n",
    "\n"
   ]
  },
  {
   "cell_type": "markdown",
   "id": "2c7b73eb",
   "metadata": {
    "pycharm": {
     "name": "#%% md\n"
    }
   },
   "source": [
    "#### Array Mathematics"
   ]
  },
  {
   "cell_type": "code",
   "execution_count": null,
   "id": "d46ac45a",
   "metadata": {
    "pycharm": {
     "name": "#%%\n"
    }
   },
   "outputs": [],
   "source": [
    "import numpy\n",
    "\n",
    "\n",
    "x,y = map(int,input().split())\n",
    "a1 = []\n",
    "\n",
    "for _ in range(x):\n",
    "    a1.append(list(map(int,input().split())))\n",
    "a = numpy.array(a1)\n",
    "\n",
    "b1 = []\n",
    "for _ in range(x):\n",
    "    b1.append(list(map(int,input().split())))\n",
    "b = numpy.array(b1)\n",
    "\n",
    "\n",
    "print(numpy.add(a,b),numpy.subtract(a,b),numpy.multiply(a,b),a // b,numpy.mod(a,b),numpy.power(a,b),sep = \"\\n\")\n",
    "\n",
    "\n"
   ]
  },
  {
   "cell_type": "markdown",
   "id": "3fac3110",
   "metadata": {
    "pycharm": {
     "name": "#%% md\n"
    }
   },
   "source": [
    "#### Floor, Ceil and Rint"
   ]
  },
  {
   "cell_type": "code",
   "execution_count": null,
   "id": "6ea2d2bf",
   "metadata": {
    "pycharm": {
     "name": "#%%\n"
    }
   },
   "outputs": [],
   "source": [
    "import numpy\n",
    "numpy.set_printoptions(legacy=\"1.13\")\n",
    "\n",
    "x = list(map(float,input().split()))\n",
    "\n",
    "a = numpy.array(x)\n",
    "\n",
    "print(numpy.floor(a),numpy.ceil(a),numpy.rint(a), sep = \"\\n\")\n",
    "\n",
    "\n"
   ]
  },
  {
   "cell_type": "markdown",
   "id": "e411c81a",
   "metadata": {
    "pycharm": {
     "name": "#%% md\n"
    }
   },
   "source": [
    "#### Sum and Prod"
   ]
  },
  {
   "cell_type": "code",
   "execution_count": null,
   "id": "7d1bae72",
   "metadata": {
    "pycharm": {
     "name": "#%%\n"
    }
   },
   "outputs": [],
   "source": [
    "import numpy\n",
    "\n",
    "x,y = list(map(int,input().split()))\n",
    "lista = []\n",
    "\n",
    "for c in range(x):\n",
    "    lista.append(list(map(int,input().split())))\n",
    "a = numpy.array(lista)\n",
    "\n",
    "b = numpy.sum(a,axis = 0)\n",
    "print(numpy.prod(b))\n",
    "\n",
    "\n"
   ]
  },
  {
   "cell_type": "markdown",
   "id": "0450f20d",
   "metadata": {
    "pycharm": {
     "name": "#%% md\n"
    }
   },
   "source": [
    "#### Min and Max"
   ]
  },
  {
   "cell_type": "code",
   "execution_count": null,
   "id": "009e4b78",
   "metadata": {
    "pycharm": {
     "name": "#%%\n"
    }
   },
   "outputs": [],
   "source": [
    "import numpy\n",
    "\n",
    "\n",
    "x,y = list(map(int,input().split()))\n",
    "\n",
    "lista = []\n",
    "\n",
    "for _ in range(x):\n",
    "    lista.append(list(map(int,input().split())))\n",
    "a = numpy.array(lista)\n",
    "\n",
    "c = numpy.min(a,axis = 1)\n",
    "print(numpy.max(c))\n",
    "\n"
   ]
  },
  {
   "cell_type": "markdown",
   "id": "0158e03f",
   "metadata": {
    "pycharm": {
     "name": "#%% md\n"
    }
   },
   "source": [
    "#### Mean, Var, and Std"
   ]
  },
  {
   "cell_type": "code",
   "execution_count": null,
   "id": "9ced7fd4",
   "metadata": {
    "pycharm": {
     "name": "#%%\n"
    }
   },
   "outputs": [],
   "source": [
    "import numpy\n",
    "\n",
    "x,y = list(map(int,input().split()))\n",
    "lista = []\n",
    "for z in range(x):\n",
    "    lista.append(list(map(int,input().split())))\n",
    "    \n",
    "a = numpy.array(lista)\n",
    "\n",
    "print(numpy.mean(a,axis = 1),numpy.var(a,axis = 0),round(numpy.std(a,axis = None),11),sep = \"\\n\")\n",
    "    \n",
    "\n"
   ]
  },
  {
   "cell_type": "markdown",
   "id": "d7e65eb1",
   "metadata": {
    "pycharm": {
     "name": "#%% md\n"
    }
   },
   "source": [
    "#### Dot and Cross"
   ]
  },
  {
   "cell_type": "code",
   "execution_count": null,
   "id": "e053d99d",
   "metadata": {
    "pycharm": {
     "name": "#%%\n"
    }
   },
   "outputs": [],
   "source": [
    "import numpy\n",
    "\n",
    "x = int(input())\n",
    "a1 = []\n",
    "for _ in range(x):\n",
    "    a1.append(list(map(int,input().split())))\n",
    "a = numpy.array(a1)  \n",
    "a2 = []\n",
    "for _ in range(x):\n",
    "    a2.append(list(map(int,input().split())))\n",
    "b = numpy.array(a2)\n",
    "\n",
    "print(numpy.dot(a,b))\n",
    "    \n",
    "\n"
   ]
  },
  {
   "cell_type": "markdown",
   "id": "e31baa57",
   "metadata": {
    "pycharm": {
     "name": "#%% md\n"
    }
   },
   "source": [
    "#### Inner and Outer"
   ]
  },
  {
   "cell_type": "code",
   "execution_count": null,
   "id": "6954c333",
   "metadata": {
    "pycharm": {
     "name": "#%%\n"
    }
   },
   "outputs": [],
   "source": [
    "import numpy\n",
    "\n",
    "a1 = list(map(int,input().split()))\n",
    "b1 = list(map(int,input().split()))\n",
    "a = numpy.array(a1)\n",
    "b = numpy.array(b1)\n",
    "print(numpy.inner(a, b))\n",
    "print(numpy.outer(a, b))\n",
    "\n",
    "\n"
   ]
  },
  {
   "cell_type": "markdown",
   "id": "3d129497",
   "metadata": {
    "pycharm": {
     "name": "#%% md\n"
    }
   },
   "source": [
    "#### Polynomials"
   ]
  },
  {
   "cell_type": "code",
   "execution_count": null,
   "id": "14bc57ab",
   "metadata": {
    "pycharm": {
     "name": "#%%\n"
    }
   },
   "outputs": [],
   "source": [
    "import numpy\n",
    "\n",
    "a = list(map(float, input().split()))\n",
    "x = float(input())\n",
    "\n",
    "print(float(numpy.polyval(a, x)))\n"
   ]
  },
  {
   "cell_type": "markdown",
   "id": "9607877c",
   "metadata": {
    "pycharm": {
     "name": "#%% md\n"
    }
   },
   "source": [
    "#### Linear Algebra"
   ]
  },
  {
   "cell_type": "code",
   "execution_count": null,
   "id": "fb33c4d8",
   "metadata": {
    "pycharm": {
     "name": "#%%\n"
    }
   },
   "outputs": [],
   "source": [
    "import numpy\n",
    "\n",
    "x = int(input())\n",
    "a = []\n",
    "for _ in range(x):\n",
    "    a.append(list(map(float,input().split())))\n",
    "b = numpy.array(a)\n",
    "\n",
    "print(round(numpy.linalg.det(b),2))\n",
    "    \n",
    "\n"
   ]
  },
  {
   "cell_type": "markdown",
   "id": "807e4f0b",
   "metadata": {
    "pycharm": {
     "name": "#%% md\n"
    }
   },
   "source": [
    "#### Birthday Cake Candles"
   ]
  },
  {
   "cell_type": "code",
   "execution_count": null,
   "id": "cae95e76",
   "metadata": {
    "pycharm": {
     "name": "#%%\n"
    }
   },
   "outputs": [],
   "source": [
    "#!/bin/python3\n",
    "\n",
    "import math\n",
    "import os\n",
    "import random\n",
    "import re\n",
    "import sys\n",
    "\n",
    "#\n",
    "# Complete the 'birthdayCakeCandles' function below.\n",
    "#\n",
    "# The function is expected to return an INTEGER.\n",
    "# The function accepts INTEGER_ARRAY candles as parameter.\n",
    "#\n",
    "\n",
    "def birthdayCakeCandles(candles):\n",
    "    #ordino la lista di candele\n",
    "    candles.sort()\n",
    "    #conto ogni candela che ha lo stesso valore(piu alto)\n",
    "    \n",
    "    candele = 0\n",
    "    candelealte = candles[-1]\n",
    "    for x in candles:\n",
    "        if x == candelealte:\n",
    "            candele +=1\n",
    "    return(candele)\n",
    "            \n",
    "\n",
    "if __name__ == '__main__':\n",
    "    fptr = open(os.environ['OUTPUT_PATH'], 'w')\n",
    "\n",
    "    candles_count = int(input().strip())\n",
    "\n",
    "    candles = list(map(int, input().rstrip().split()))\n",
    "\n",
    "    result = birthdayCakeCandles(candles)\n",
    "\n",
    "    fptr.write(str(result) + '\\n')\n",
    "\n",
    "    fptr.close()\n"
   ]
  },
  {
   "cell_type": "markdown",
   "id": "e7b7a854",
   "metadata": {
    "pycharm": {
     "name": "#%% md\n"
    }
   },
   "source": [
    "#### Number Line Jumps"
   ]
  },
  {
   "cell_type": "code",
   "execution_count": null,
   "id": "672e99dc",
   "metadata": {
    "pycharm": {
     "name": "#%%\n"
    }
   },
   "outputs": [],
   "source": [
    "#!/bin/python3\n",
    "\n",
    "import math\n",
    "import os\n",
    "import random\n",
    "import re\n",
    "import sys\n",
    "\n",
    "#\n",
    "# Complete the 'kangaroo' function below.\n",
    "#\n",
    "# The function is expected to return a STRING.\n",
    "# The function accepts following parameters:\n",
    "#  1. INTEGER x1\n",
    "#  2. INTEGER v1\n",
    "#  3. INTEGER x2\n",
    "#  4. INTEGER v2\n",
    "#\n",
    "\n",
    "def kangaroo(x1, v1, x2, v2):\n",
    "    # Write your code here\n",
    "      if (v2>v1):    #jumpstep del 2 maggiore dell'1\n",
    "        return \"NO\"\n",
    "      else:\n",
    "        pos = 1\n",
    "        for i in range(x2-x1):\n",
    "            if(x1+(v1*pos) == x2+(v2*pos)):\n",
    "                return \"YES\"\n",
    "            pos+=1\n",
    "        return \"NO\"\n",
    "\n",
    "\n",
    "if __name__ == '__main__':\n",
    "    fptr = open(os.environ['OUTPUT_PATH'], 'w')\n",
    "\n",
    "    first_multiple_input = input().rstrip().split()\n",
    "\n",
    "    x1 = int(first_multiple_input[0])\n",
    "\n",
    "    v1 = int(first_multiple_input[1])\n",
    "\n",
    "    x2 = int(first_multiple_input[2])\n",
    "\n",
    "    v2 = int(first_multiple_input[3])\n",
    "\n",
    "    result = kangaroo(x1, v1, x2, v2)\n",
    "\n",
    "    fptr.write(result + '\\n')\n",
    "\n",
    "    fptr.close()\n"
   ]
  },
  {
   "cell_type": "markdown",
   "id": "4a5fab32",
   "metadata": {
    "pycharm": {
     "name": "#%% md\n"
    }
   },
   "source": [
    "#### Viral Advertising"
   ]
  },
  {
   "cell_type": "code",
   "execution_count": null,
   "id": "2e1f0400",
   "metadata": {
    "pycharm": {
     "name": "#%%\n"
    }
   },
   "outputs": [],
   "source": [
    "#!/bin/python3\n",
    "\n",
    "import math\n",
    "import os\n",
    "import random\n",
    "import re\n",
    "import sys\n",
    "\n",
    "#\n",
    "# Complete the 'viralAdvertising' function below.\n",
    "#\n",
    "# The function is expected to return an INTEGER.\n",
    "# The function accepts INTEGER n as parameter.\n",
    "#\n",
    "\n",
    "def viralAdvertising(n):\n",
    "    # Write your code here\n",
    "    start = 5\n",
    "    count = 0\n",
    "    for _ in range(n):\n",
    "        recipients = start//2\n",
    "        count += recipients\n",
    "        start = 3*recipients\n",
    "    return count\n",
    "        \n",
    "        \n",
    "        \n",
    "        \n",
    "    \n",
    "\n",
    "if __name__ == '__main__':\n",
    "    fptr = open(os.environ['OUTPUT_PATH'], 'w')\n",
    "\n",
    "    n = int(input().strip())\n",
    "\n",
    "    result = viralAdvertising(n)\n",
    "\n",
    "    fptr.write(str(result) + '\\n')\n",
    "\n",
    "    fptr.close()\n"
   ]
  },
  {
   "cell_type": "markdown",
   "id": "1828c06f",
   "metadata": {
    "pycharm": {
     "name": "#%% md\n"
    }
   },
   "source": [
    "#### Insertion Sort - Part 1"
   ]
  },
  {
   "cell_type": "code",
   "execution_count": null,
   "id": "b0a23d26",
   "metadata": {
    "pycharm": {
     "name": "#%%\n"
    }
   },
   "outputs": [],
   "source": [
    "#!/bin/python3\n",
    "\n",
    "import math\n",
    "import os\n",
    "import random\n",
    "import re\n",
    "import sys\n",
    "\n",
    "#\n",
    "# Complete the 'insertionSort1' function below.\n",
    "#\n",
    "# The function accepts following parameters:\n",
    "#  1. INTEGER n\n",
    "#  2. INTEGER_ARRAY arr\n",
    "#\n",
    "\n",
    "def insertionSort1(n, arr):\n",
    "    # Write your code here\n",
    "    a = arr[n-1]\n",
    "    j = n-2\n",
    "    while j >= 0 and arr[j] > a:\n",
    "        arr[j+1] = arr[j]\n",
    "        j -= 1\n",
    "        print(*arr)\n",
    "    arr[j+1] = a\n",
    "    print(*arr)\n",
    "     \n",
    "     \n",
    "if __name__ == '__main__':\n",
    "    n = int(input().strip())\n",
    "\n",
    "    arr = list(map(int, input().rstrip().split()))\n",
    "\n",
    "    insertionSort1(n, arr)\n"
   ]
  },
  {
   "cell_type": "markdown",
   "id": "5ec3fe2b",
   "metadata": {
    "pycharm": {
     "name": "#%% md\n"
    }
   },
   "source": [
    "#### Insertion Sort - Part 1"
   ]
  },
  {
   "cell_type": "code",
   "execution_count": null,
   "id": "c407adad",
   "metadata": {
    "pycharm": {
     "name": "#%%\n"
    }
   },
   "outputs": [],
   "source": [
    "#!/bin/python3\n",
    "\n",
    "import math\n",
    "import os\n",
    "import random\n",
    "import re\n",
    "import sys\n",
    "\n",
    "#\n",
    "# Complete the 'insertionSort1' function below.\n",
    "#\n",
    "# The function accepts following parameters:\n",
    "#  1. INTEGER n\n",
    "#  2. INTEGER_ARRAY arr\n",
    "#\n",
    "\n",
    "def insertionSort1(n, arr):\n",
    "    # Write your code here\n",
    "    a = arr[n-1]\n",
    "    j = n-2\n",
    "    while j >= 0 and arr[j] > a:\n",
    "        arr[j+1] = arr[j]\n",
    "        j -= 1\n",
    "        print(*arr)\n",
    "    arr[j+1] = a\n",
    "    print(*arr)\n",
    "     \n",
    "     \n",
    "if __name__ == '__main__':\n",
    "    n = int(input().strip())\n",
    "\n",
    "    arr = list(map(int, input().rstrip().split()))\n",
    "\n",
    "    insertionSort1(n, arr)\n"
   ]
  },
  {
   "cell_type": "markdown",
   "id": "ae09e9bf",
   "metadata": {
    "pycharm": {
     "name": "#%% md\n"
    }
   },
   "source": [
    "#### Insertion Sort - Part 2"
   ]
  },
  {
   "cell_type": "code",
   "execution_count": null,
   "id": "434ba66a",
   "metadata": {
    "pycharm": {
     "name": "#%%\n"
    }
   },
   "outputs": [],
   "source": [
    "#!/bin/python3\n",
    "\n",
    "import math\n",
    "import os\n",
    "import random\n",
    "import re\n",
    "import sys\n",
    "\n",
    "#\n",
    "# Complete the 'insertionSort2' function below.\n",
    "#\n",
    "# The function accepts following parameters:\n",
    "#  1. INTEGER n\n",
    "#  2. INTEGER_ARRAY arr\n",
    "#\n",
    "\n",
    "def insertionSort2(n, arr):\n",
    "    for a in range(1,n):\n",
    "        j = a\n",
    "        while arr[j-1]>arr[j] and j>0:\n",
    "            arr[j],arr[j-1]=arr[j-1],arr[j]\n",
    "            j-=1\n",
    "        print(*arr)\n",
    "   \n",
    "\n",
    "if __name__ == '__main__':\n",
    "    n = int(input().strip())\n",
    "\n",
    "    arr = list(map(int, input().rstrip().split()))\n",
    "\n",
    "    insertionSort2(n, arr)\n"
   ]
  },
  {
   "cell_type": "markdown",
   "id": "67087693",
   "metadata": {
    "pycharm": {
     "name": "#%% md\n"
    }
   },
   "source": [
    "#### Recursive Digit Sum"
   ]
  },
  {
   "cell_type": "code",
   "execution_count": null,
   "id": "8158d395",
   "metadata": {
    "pycharm": {
     "name": "#%%\n"
    }
   },
   "outputs": [],
   "source": [
    "#!/bin/python3\n",
    "\n",
    "import math\n",
    "import os\n",
    "import random\n",
    "import re\n",
    "import sys\n",
    "\n",
    "#\n",
    "# Complete the 'superDigit' function below.\n",
    "#\n",
    "# The function is expected to return an INTEGER.\n",
    "# The function accepts following parameters:\n",
    "#  1. STRING n\n",
    "#  2. INTEGER k\n",
    "#\n",
    "\n",
    "def superDigit(n, k):\n",
    "    # Write your code here\n",
    "    somma = (k*n)%9\n",
    "    if somma == 0:\n",
    "        return(9)\n",
    "    else:\n",
    "        return(somma)\n",
    "if __name__ == '__main__':\n",
    "    fptr = open(os.environ['OUTPUT_PATH'], 'w')\n",
    "\n",
    "    first_multiple_input = input().rstrip().split()\n",
    "\n",
    "    n = int(first_multiple_input[0])\n",
    "\n",
    "    k = int(first_multiple_input[1])\n",
    "\n",
    "    result = superDigit(n, k)\n",
    "\n",
    "    fptr.write(str(result) + '\\n')\n",
    "\n",
    "    fptr.close()\n"
   ]
  }
 ],
 "metadata": {},
 "nbformat": 4,
 "nbformat_minor": 5
}