{
  "nbformat": 4,
  "nbformat_minor": 0,
  "metadata": {
    "colab": {
      "provenance": [],
      "include_colab_link": true
    },
    "kernelspec": {
      "name": "python3",
      "display_name": "Python 3"
    },
    "language_info": {
      "name": "python"
    }
  },
  "cells": [
    {
      "cell_type": "markdown",
      "metadata": {
        "id": "view-in-github",
        "colab_type": "text"
      },
      "source": [
        "<a href=\"https://colab.research.google.com/github/gabrielepelliccioni13/ADM12022/blob/main/Copia_di_Homework_2.ipynb\" target=\"_parent\"><img src=\"https://colab.research.google.com/assets/colab-badge.svg\" alt=\"Open In Colab\"/></a>"
      ]
    },
    {
      "cell_type": "markdown",
      "source": [
        "# Homework 2 - ADM - group 17"
      ],
      "metadata": {
        "id": "1xG58qHoeJoU"
      }
    },
    {
      "cell_type": "code",
      "source": [
        "import pandas as pd\n",
        "import matplotlib.pyplot as plt\n",
        "import matplotlib.mlab as mlab"
      ],
      "metadata": {
        "id": "vrugJGNLieh1"
      },
      "execution_count": 1,
      "outputs": []
    },
    {
      "cell_type": "markdown",
      "source": [
        "Packages imported"
      ],
      "metadata": {
        "id": "ocFNQtz5e06W"
      }
    },
    {
      "cell_type": "code",
      "source": [
        "from google.colab import drive\n",
        "drive.mount('/content/drive')"
      ],
      "metadata": {
        "id": "a9MK-OIye5Al"
      },
      "execution_count": null,
      "outputs": []
    },
    {
      "cell_type": "code",
      "source": [
        "import pandas as pd\n",
        "import numpy as np\n",
        "import matplotlib.pyplot as plt"
      ],
      "metadata": {
        "id": "OTp405g3e3ie"
      },
      "execution_count": null,
      "outputs": []
    },
    {
      "cell_type": "code",
      "source": [
        "locations = pd.read_csv('/content/drive/MyDrive/ADM/instagram_locations.csv', sep='\\t')"
      ],
      "metadata": {
        "id": "gZFL8sh3fIZf"
      },
      "execution_count": null,
      "outputs": []
    },
    {
      "cell_type": "code",
      "source": [
        "profiles = pd.read_csv('/content/drive/MyDrive/ADM/instagram_profiles.csv', sep='\\t')"
      ],
      "metadata": {
        "id": "yw8VxBxSg2Kf"
      },
      "execution_count": null,
      "outputs": []
    },
    {
      "cell_type": "code",
      "source": [
        "posts = pd.read_csv('/content/drive/MyDrive/ADM/instagram_profiles.csv', sep='\\t')"
      ],
      "metadata": {
        "id": "fIg97ULFg2P1"
      },
      "execution_count": null,
      "outputs": []
    },
    {
      "cell_type": "code",
      "source": [
        "print(locations)"
      ],
      "metadata": {
        "id": "8VOPqy4mfc94",
        "outputId": "7f3432cf-81be-416b-ea4e-f1b4dc7ff324",
        "colab": {
          "base_uri": "https://localhost:8080/"
        }
      },
      "execution_count": null,
      "outputs": [
        {
          "output_type": "stream",
          "name": "stdout",
          "text": [
            "            sid                id  \\\n",
            "0        719981   110296492939207   \n",
            "1        719983         274391278   \n",
            "2        719985   148885595789195   \n",
            "3        719987         263258277   \n",
            "4        326443   406147529857708   \n",
            "...         ...               ...   \n",
            "1022653  719973   873926439475785   \n",
            "1022654  719975         390707529   \n",
            "1022655  719977  1205466612894741   \n",
            "1022656  719979         286794844   \n",
            "1022657  720678         554330673   \n",
            "\n",
            "                                                      name  \\\n",
            "0                       Playa de Daimuz - Valencia, España   \n",
            "1                                              Nová Vieska   \n",
            "2                                            Everest Today   \n",
            "3        BULAC - Bibliothèque universitaire des langues...   \n",
            "4                                 ABC Cable Networks Group   \n",
            "...                                                    ...   \n",
            "1022653                                        Baby Season   \n",
            "1022654                                     Cueva Carvajal   \n",
            "1022655                             The Cheesecake Factory   \n",
            "1022656                                     Plimmer Towers   \n",
            "1022657                                      Старые Бирюли   \n",
            "\n",
            "                             street    zip                              city  \\\n",
            "0                               NaN    NaN                               NaN   \n",
            "1                               NaN    NaN                       Nová Vieska   \n",
            "2                         Himalayas   +977                  Kathmandu, Nepal   \n",
            "3        65, rue des Grands-Moulins  75013                     Paris, France   \n",
            "4                3800 W Alameda Ave  91505               Burbank, California   \n",
            "...                             ...    ...                               ...   \n",
            "1022653    Suarez de Figueroa # 380    NaN  Santa Cruz de la Sierra, Bolivia   \n",
            "1022654                         NaN    NaN                               NaN   \n",
            "1022655        304 Orland Square Dr  60462             Orland Park, Illinois   \n",
            "1022656            2 Gilmer Terrace    NaN           Wellington, New Zealand   \n",
            "1022657              Северная улица    NaN                               NaN   \n",
            "\n",
            "        region   cd             phone aj_exact_city_match  ...  \\\n",
            "0          NaN  NaN               NaN               False  ...   \n",
            "1          NaN   SK               NaN                True  ...   \n",
            "2          NaN   NP               NaN               False  ...   \n",
            "3          NaN   FR    01 81 69 18 00               False  ...   \n",
            "4          NaN   US    (818) 569-7500               False  ...   \n",
            "...        ...  ...               ...                 ...  ...   \n",
            "1022653    NaN   BO          69118383               False  ...   \n",
            "1022654    NaN  NaN  +52 81 2089 7776                 NaN  ...   \n",
            "1022655    NaN   US    (708) 873-3747               False  ...   \n",
            "1022656    NaN   NZ               NaN               False  ...   \n",
            "1022657    NaN  NaN               NaN               False  ...   \n",
            "\n",
            "                      dir_city_name               dir_city_slug  \\\n",
            "0                               NaN                         NaN   \n",
            "1                        Kis-Újfalu                  kis-ujfalu   \n",
            "2                          Pasupati                    pasupati   \n",
            "3        13ème Arrondissement Paris  13eme-arrondissement-paris   \n",
            "4                               NaN                         NaN   \n",
            "...                             ...                         ...   \n",
            "1022653     Santa Cruz de la Sierra     santa-cruz-de-la-sierra   \n",
            "1022654                         NaN                         NaN   \n",
            "1022655                 Manor Homes                 manor-homes   \n",
            "1022656                         NaN                         NaN   \n",
            "1022657                         NaN                         NaN   \n",
            "\n",
            "        dir_country_id dir_country_name         lat        lng  \\\n",
            "0                  NaN              NaN   -0.139475  38.974391   \n",
            "1                   SK         Slovakia   18.466667  47.866667   \n",
            "2                   NP            Nepal   85.330150  27.701960   \n",
            "3                   FR           France    2.375995  48.827240   \n",
            "4                  NaN              NaN -118.341864  34.153265   \n",
            "...                ...              ...         ...        ...   \n",
            "1022653             BO          Bolivia  -63.185307 -17.786130   \n",
            "1022654            NaN              NaN -100.359619  25.653550   \n",
            "1022655             US    United States  -87.843649  41.618551   \n",
            "1022656            NaN              NaN  174.775000 -41.285800   \n",
            "1022657            NaN              NaN   49.444430  55.979180   \n",
            "\n",
            "          primary_alias_on_fb  \\\n",
            "0                 daimuzplaya   \n",
            "1                         NaN   \n",
            "2                EverestToday   \n",
            "3                 BULAC.Paris   \n",
            "4                         NaN   \n",
            "...                       ...   \n",
            "1022653        babyseason.srl   \n",
            "1022654  CuevaCarvajalBrewPub   \n",
            "1022655                   NaN   \n",
            "1022656                   NaN   \n",
            "1022657                   NaN   \n",
            "\n",
            "                                                      slug  \\\n",
            "0                          playa-de-daimuz-valencia-espana   \n",
            "1                                              nova-vieska   \n",
            "2                                            everest-today   \n",
            "3        bulac-bibliotheque-universitaire-des-langues-e...   \n",
            "4                                 abc-cable-networks-group   \n",
            "...                                                    ...   \n",
            "1022653                                        baby-season   \n",
            "1022654                                     cueva-carvajal   \n",
            "1022655                             the-cheesecake-factory   \n",
            "1022656                                     plimmer-towers   \n",
            "1022657                                                NaN   \n",
            "\n",
            "                                                   website  \\\n",
            "0                     https://es.wikipedia.org/wiki/Daimuz   \n",
            "1                                                      NaN   \n",
            "2                                                      NaN   \n",
            "3                                             www.bulac.fr   \n",
            "4                                                      NaN   \n",
            "...                                                    ...   \n",
            "1022653                                                NaN   \n",
            "1022654                        http://www.cuevacarvajal.mx   \n",
            "1022655  http://locations.thecheesecakefactory.com/il/o...   \n",
            "1022656                                                NaN   \n",
            "1022657                                                NaN   \n",
            "\n",
            "                             cts  \n",
            "0        2019-05-29 01:21:29.987  \n",
            "1        2019-05-29 01:21:38.037  \n",
            "2        2019-05-29 01:21:46.295  \n",
            "3        2019-05-29 01:21:54.355  \n",
            "4        2019-04-02 15:22:55.703  \n",
            "...                          ...  \n",
            "1022653  2019-05-29 01:20:57.078  \n",
            "1022654  2019-05-29 01:21:04.434  \n",
            "1022655  2019-05-29 01:21:13.404  \n",
            "1022656  2019-05-29 01:21:21.628  \n",
            "1022657  2019-05-29 02:07:00.772  \n",
            "\n",
            "[1022658 rows x 23 columns]\n"
          ]
        }
      ]
    }
  ]
}